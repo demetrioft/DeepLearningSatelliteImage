{
 "cells": [
  {
   "cell_type": "markdown",
   "metadata": {},
   "source": [
    "<table style=\"font-size: 1em; padding: 0; margin: 0;\">\n",
    "\n",
    "<tr style=\"vertical-align: top; padding: 0; margin: 0;background-color: #ffffff\">\n",
    "        <td style=\"vertical-align: top; padding: 0; margin: 0; padding-right: 15px;\">\n",
    "    <p style=\"background: #182AEB; color:#ffffff; text-align:justify; padding: 10px 25px;\">\n",
    "        <strong style=\"font-size: 1.0em;\"><span style=\"font-size: 1.2em;\"><span style=\"color: #ffffff;\">Deep Learning </span> for Satellite Image Classification</span> (Manning Publications)<br/>by <em>Daniel Buscombe</em></strong><br/><br/>\n",
    "        <strong>> Chapter 1: Getting Started </strong><br/>\n",
    "    </p>           \n",
    "        \n",
    "<p style=\"border: 1px solid #ff5733; border-left: 15px solid #ff5733; padding: 10px; text-align:justify;\">\n",
    "    <strong style=\"color: #ff5733\">What you will learn in this Part.</strong>  \n",
    "    <br/>In this first part we will refresh our jupyter, keras, Tensorflow 2, and git skills. These are a necessary part of your workflow and a standard collection of tools used in both industry and academia. Optionally, we will explore how to use the Sentinel API to download, display and save Sentinel-2 imagery.\n",
    "    \n",
    "   There may be places in this notebook where the code gets a difficult to understand. I encourage you not to get too bogged down in the details just yet; you will see many of these same functions again and each time I may explain a different aspect of them, and your understanding will improve as you progress through the project. Many of the details of the code are unimportant, at least initially, but are necessary to create functional example workflows that are relevant to later Parts \n",
    "    </p>"
   ]
  },
  {
   "cell_type": "markdown",
   "metadata": {},
   "source": [
    "<table style=\"font-size: 1em; padding: 0; margin: 0;\">\n",
    "\n",
    "<h1 style=\"width: 100%; text-align: left; padding: 0px 25px;\"><small style=\"color: #182AEB;\">\n",
    "    </small><br/>Introduction to<br/> Jupyter notebooks</h1>\n",
    "<br/>\n",
    "<p style=\"border-left: 15px solid #182AEB; text-align:justify; padding: 0 10px;\">\n",
    "<a href=\"https://jupyter.org/\">Jupyter</a> notebooks are a way to share executable code that can be run through a web browser. \n",
    "</p>\n",
    "<p style=\"border-left: 15px solid #6019D6; padding: 0 10px; text-align:justify;\">\n",
    "    <strong style=\"color: #6019D6;\">Tip.</strong> \n",
    "A notebook kernel is a computational engine that executes the code contained in a notebook. The ipython kernel executes python code. Kernels for many other languages also exist.\n",
    "</p>\n",
    "        </tr>\n",
    "        </table>"
   ]
  },
  {
   "cell_type": "markdown",
   "metadata": {},
   "source": [
    "You can use question mark in order to get help. To execute cell you have to press Shift+Enter"
   ]
  },
  {
   "cell_type": "code",
   "execution_count": 1,
   "metadata": {},
   "outputs": [],
   "source": [
    "## uncomment to see the 'full' help menu, which is a lot of output\n",
    "?"
   ]
  },
  {
   "cell_type": "markdown",
   "metadata": {},
   "source": [
    "* To execute the code in a particular cell, click on the cell and hit shift-enter.\n",
    "* Before you execute the code in an arbitrary cell it is good to run all the code once so that all imports and variables are initialised."
   ]
  },
  {
   "cell_type": "code",
   "execution_count": 2,
   "metadata": {},
   "outputs": [
    {
     "name": "stdout",
     "output_type": "stream",
     "text": [
      "I love Python\n"
     ]
    }
   ],
   "source": [
    "print('I love Python')"
   ]
  },
  {
   "cell_type": "markdown",
   "metadata": {},
   "source": [
    "Making plots:"
   ]
  },
  {
   "cell_type": "code",
   "execution_count": 3,
   "metadata": {},
   "outputs": [],
   "source": [
    "%matplotlib inline\n",
    "import matplotlib.pyplot as plt"
   ]
  },
  {
   "cell_type": "code",
   "execution_count": 4,
   "metadata": {},
   "outputs": [
    {
     "data": {
      "image/png": "[encoded data removed]",
      "text/plain": [
       "<Figure size 432x288 with 1 Axes>"
      ]
     },
     "metadata": {
      "needs_background": "light"
     },
     "output_type": "display_data"
    }
   ],
   "source": [
    "x = [1,2,3,4,5]\n",
    "plt.plot(x);"
   ]
  },
  {
   "cell_type": "markdown",
   "metadata": {},
   "source": [
    "Question mark after a function will open pager with documentation. Double question mark will show you source code of the function."
   ]
  },
  {
   "cell_type": "code",
   "execution_count": 5,
   "metadata": {},
   "outputs": [],
   "source": [
    "## uncomment to see the 'full' help menu, which is a lot of output\n",
    "plt.plot??"
   ]
  },
  {
   "cell_type": "markdown",
   "metadata": {},
   "source": [
    "#### Formatting text\n",
    "\n",
    "Double click on this cell to reveal the unformatted text which can then be re-executed, either from the buttons provided or by holding down shift while you press enter\n",
    "\n",
    "As you can see below, formatting text characters apply to markdown cells\n",
    "\n",
    "Emphasis, aka italics, with *asterisks* or _underscores_.\n",
    "\n",
    "Strong emphasis, aka bold, with **asterisks** or __underscores__.\n",
    "\n",
    "Combined emphasis with **asterisks and _underscores_**.\n",
    "\n",
    "Strikethrough uses two tildes. ~~Scratch this.~~"
   ]
  },
  {
   "cell_type": "markdown",
   "metadata": {},
   "source": [
    "[I'm an inline-style link](https://www.google.com)"
   ]
  },
  {
   "cell_type": "markdown",
   "metadata": {},
   "source": [
    "We can write equations inline: $e = mc^2$, $e^{i\\pi}+1=0$\n",
    "\n",
    "or in display format:\n",
    "\n",
    "$$ e^x = \\sum_{i=0}^{\\infty}\\frac{1}{i!}x^i$$"
   ]
  },
  {
   "cell_type": "code",
   "execution_count": 6,
   "metadata": {},
   "outputs": [
    {
     "data": {
      "text/html": [
       "<img src=\"http://python.org/images/python-logo.gif\"/>"
      ],
      "text/plain": [
       "<IPython.core.display.Image object>"
      ]
     },
     "execution_count": 6,
     "metadata": {},
     "output_type": "execute_result"
    }
   ],
   "source": [
    "from IPython.display import Image\n",
    "Image(url='http://python.org/images/python-logo.gif')"
   ]
  },
  {
   "cell_type": "code",
   "execution_count": 7,
   "metadata": {},
   "outputs": [
    {
     "data": {
      "image/jpeg": "[encoded data removed]",
      "text/html": [
       "\n",
       "        <iframe\n",
       "            width=\"400\"\n",
       "            height=\"300\"\n",
       "            src=\"https://www.youtube.com/embed/F4rFuIb1Ie4\"\n",
       "            frameborder=\"0\"\n",
       "            allowfullscreen\n",
       "        ></iframe>\n",
       "        "
      ],
      "text/plain": [
       "<IPython.lib.display.YouTubeVideo at 0x19c15664908>"
      ]
     },
     "execution_count": 7,
     "metadata": {},
     "output_type": "execute_result"
    }
   ],
   "source": [
    "from IPython.display import YouTubeVideo\n",
    "YouTubeVideo('F4rFuIb1Ie4')"
   ]
  },
  {
   "cell_type": "markdown",
   "metadata": {},
   "source": [
    "Find out how long it take to run a command with %timeit magic function:"
   ]
  },
  {
   "cell_type": "code",
   "execution_count": 8,
   "metadata": {},
   "outputs": [
    {
     "name": "stdout",
     "output_type": "stream",
     "text": [
      "26.7 ms ± 783 µs per loop (mean ± std. dev. of 7 runs, 12 loops each)\n"
     ]
    }
   ],
   "source": [
    "%timeit -n 12 list(range(1000000))"
   ]
  },
  {
   "cell_type": "markdown",
   "metadata": {},
   "source": [
    "Print all interactive variables:"
   ]
  },
  {
   "cell_type": "code",
   "execution_count": 9,
   "metadata": {},
   "outputs": [
    {
     "name": "stdout",
     "output_type": "stream",
     "text": [
      "Variable       Type      Data/Info\n",
      "----------------------------------\n",
      "Image          type      <class 'IPython.core.display.Image'>\n",
      "YouTubeVideo   type      <class 'IPython.lib.display.YouTubeVideo'>\n",
      "plt            module    <module 'matplotlib.pyplo<...>\\\\matplotlib\\\\pyplot.py'>\n",
      "x              list      n=5\n"
     ]
    }
   ],
   "source": [
    "%whos"
   ]
  },
  {
   "cell_type": "markdown",
   "metadata": {},
   "source": [
    "In order to get information about all magic functions type:"
   ]
  },
  {
   "cell_type": "code",
   "execution_count": 10,
   "metadata": {},
   "outputs": [],
   "source": [
    "## uncomment if you are interested in all the magic commands, \n",
    "## but it isn't necessary to read it to execute the rest of the notebook\n",
    "%magic"
   ]
  },
  {
   "cell_type": "markdown",
   "metadata": {},
   "source": [
    "You can navigate and list file contents in python using the ```os``` module"
   ]
  },
  {
   "cell_type": "code",
   "execution_count": 11,
   "metadata": {},
   "outputs": [
    {
     "name": "stdout",
     "output_type": "stream",
     "text": [
      "C:\\Users\\demet\\DeepLearningSatelliteImage\\1_GettingStarted\n"
     ]
    }
   ],
   "source": [
    "import os\n",
    "print(os.getcwd())"
   ]
  },
  {
   "cell_type": "markdown",
   "metadata": {},
   "source": [
    "There are a couple of different ways of running a python script and passing it variables. To demonstrate this, let's first make a simple script that accepts 2 variables and prints them to screen "
   ]
  },
  {
   "cell_type": "code",
   "execution_count": 12,
   "metadata": {},
   "outputs": [],
   "source": [
    "var1 = 50\n",
    "var2 = 'jupyter_is_cool'"
   ]
  },
  {
   "cell_type": "markdown",
   "metadata": {},
   "source": [
    "```writefile``` is a so-called [magic command](https://ipython.readthedocs.io/en/stable/interactive/magics.html)"
   ]
  },
  {
   "cell_type": "code",
   "execution_count": 13,
   "metadata": {},
   "outputs": [
    {
     "name": "stdout",
     "output_type": "stream",
     "text": [
      "Overwriting test_script.py\n"
     ]
    }
   ],
   "source": [
    "%%writefile test_script.py\n",
    "import sys\n",
    "script, var1, var2 = sys.argv\n",
    "print(\"Script name:\", script)\n",
    "print(\"First variable:\", var1)\n",
    "print(\"Second variable:\", var2)"
   ]
  },
  {
   "cell_type": "markdown",
   "metadata": {},
   "source": [
    "You can run the script using the ```run``` jupyter magic command. Variables are passed to the script using a $ symbol"
   ]
  },
  {
   "cell_type": "code",
   "execution_count": 14,
   "metadata": {},
   "outputs": [
    {
     "name": "stdout",
     "output_type": "stream",
     "text": [
      "Script name: ./test_script.py\n",
      "First variable: 50\n",
      "Second variable: jupyter_is_cool\n"
     ]
    },
    {
     "data": {
      "text/plain": [
       "<Figure size 432x288 with 0 Axes>"
      ]
     },
     "metadata": {},
     "output_type": "display_data"
    }
   ],
   "source": [
    "%run ./test_script.py $var1 $var2"
   ]
  },
  {
   "cell_type": "markdown",
   "metadata": {},
   "source": [
    "... or using the bang operator. This is the convention we'll adopt in this clinic:"
   ]
  },
  {
   "cell_type": "code",
   "execution_count": 15,
   "metadata": {},
   "outputs": [
    {
     "name": "stdout",
     "output_type": "stream",
     "text": [
      "Script name: test_script.py\n",
      "First variable: 50\n",
      "Second variable: jupyter_is_cool\n"
     ]
    }
   ],
   "source": [
    "! python test_script.py $var1 $var2"
   ]
  },
  {
   "cell_type": "markdown",
   "metadata": {},
   "source": [
    "#### File management and resources on linux\n",
    "\n",
    "(these commands below only work in the cloud environment, unless you are in an environment supporting bash. Uncomment to run)\n",
    "\n",
    "How much memory do you have?"
   ]
  },
  {
   "cell_type": "code",
   "execution_count": 16,
   "metadata": {},
   "outputs": [
    {
     "name": "stderr",
     "output_type": "stream",
     "text": [
      "'cat' nÆo ‚ reconhecido como um comando interno\n",
      "ou externo, um programa oper vel ou um arquivo em lotes.\n"
     ]
    }
   ],
   "source": [
    "!cat /proc/meminfo | head"
   ]
  },
  {
   "cell_type": "markdown",
   "metadata": {},
   "source": [
    "CPUs?"
   ]
  },
  {
   "cell_type": "code",
   "execution_count": 17,
   "metadata": {},
   "outputs": [
    {
     "name": "stderr",
     "output_type": "stream",
     "text": [
      "'cat' nÆo ‚ reconhecido como um comando interno\n",
      "ou externo, um programa oper vel ou um arquivo em lotes.\n"
     ]
    }
   ],
   "source": [
    "!cat /proc/cpuinfo | grep processor"
   ]
  },
  {
   "cell_type": "markdown",
   "metadata": {},
   "source": [
    "Storage space?"
   ]
  },
  {
   "cell_type": "code",
   "execution_count": 20,
   "metadata": {},
   "outputs": [
    {
     "name": "stderr",
     "output_type": "stream",
     "text": [
      "'conda' nÆo ‚ reconhecido como um comando interno\n",
      "ou externo, um programa oper vel ou um arquivo em lotes.\n"
     ]
    }
   ],
   "source": []
  },
  {
   "cell_type": "markdown",
   "metadata": {},
   "source": [
    "<table style=\"font-size: 1em; padding: 0; margin: 0;\">\n",
    "\n",
    "<h1 style=\"width: 100%; text-align: left; padding: 0px 25px;\"><small style=\"color: #182AEB;\">\n",
    "    </small><br/>Getting started with<br/> Tensorflow 2 and Keras</h1>  \n",
    "<br/>\n",
    "<p style=\"border-left: 15px solid #182AEB; text-align:justify; padding: 0 10px;\">\n",
    "    <strong style=\"color: #182AEB;\">Intro.</strong> \n",
    "TensorFlow is a way of representing computation without actually performing it until asked. In this sense, it is a form of lazy computing, and it allows for some great improvements to the running of code:\n",
    "<ul>\n",
    "  <li>Faster computation of complex variables</li>\n",
    "  <li>Distributed computation across multiple systems, including GPUs.</li>\n",
    "  <li>Reduced redundency in some computations</li>\n",
    "</ul>\n",
    "</p>\n",
    "<p style=\"border-left: 15px solid #6019D6; padding: 0 10px; text-align:justify;\">\n",
    "    <strong style=\"color: #6019D6;\">Tip.</strong> \n",
    "TensorFlow allows you to create dataflow graphs. These are structures that describe how data moves through a graph, or a series of processing nodes. Each node in the graph represents a mathematical operation, and each connection or edge between nodes is a multidimensional data array, or tensor. Keras is a set of layers that describes how to build neural networks using a clear standard. The Sequential API defines a Neural Network as a stack of layers. It very easy to define a model and to add new layers</p>\n",
    "\n",
    "<p style=\"border-left: 15px solid #4E9317; padding: 0 10px; text-align:justify;\">\n",
    "    <strong style=\"color: #4E9317;\">More Resources.</strong> \n",
    "<ul>\n",
    "  <li><a href=\"https://www.tensorflow.org/tutorials\">Getting Started with Tensorflow</a></li>    \n",
    "  <li><a href=\"https://github.com/sarangzambare/segmentation\">Segmentation of cells using CNNs and TF-2</a></li>\n",
    "  <li><a href=\"https://github.com/tensorflow/models/tree/master/research/deeplab\">Segmentation Segmentation using DeepLab</a></li>\n",
    "</ul></p>\n",
    "        </tr>\n",
    "        </table>"
   ]
  },
  {
   "cell_type": "markdown",
   "metadata": {},
   "source": [
    "Next we're going to import the ```tensorflow``` module and print the version number. At the time of writing, the version number is ```2.0.0```. Be aware that it is possible this code could break with other (later/earlier) versions of tensorflow"
   ]
  },
  {
   "cell_type": "code",
   "execution_count": 18,
   "metadata": {},
   "outputs": [
    {
     "data": {
      "text/plain": [
       "'2.1.0'"
      ]
     },
     "execution_count": 18,
     "metadata": {},
     "output_type": "execute_result"
    }
   ],
   "source": [
    "import tensorflow as tf\n",
    "tf.__version__"
   ]
  },
  {
   "cell_type": "markdown",
   "metadata": {},
   "source": [
    "You can test to see if a GPU is available like so:"
   ]
  },
  {
   "cell_type": "code",
   "execution_count": 19,
   "metadata": {},
   "outputs": [
    {
     "name": "stdout",
     "output_type": "stream",
     "text": [
      "WARNING:tensorflow:From <ipython-input-19-17bb7203622b>:1: is_gpu_available (from tensorflow.python.framework.test_util) is deprecated and will be removed in a future version.\n",
      "Instructions for updating:\n",
      "Use `tf.config.list_physical_devices('GPU')` instead.\n"
     ]
    },
    {
     "data": {
      "text/plain": [
       "True"
      ]
     },
     "execution_count": 19,
     "metadata": {},
     "output_type": "execute_result"
    }
   ],
   "source": [
    "tf.test.is_gpu_available()"
   ]
  },
  {
   "cell_type": "markdown",
   "metadata": {},
   "source": [
    "#### Keras\n",
    "\n",
    "A good way to get oriented with keras is to read the [summary documentation](https://keras.io/), but note that in this project you are recommended to use the version of keras within tensorflow, so the [tf.keras documentation](https://www.tensorflow.org/guide/keras) is also very relevant. Also, [this blog post](https://towardsdatascience.com/tensorflow-is-in-a-relationship-with-keras-introducing-tf-2-0-dcf1228f73ae) is worth a read, as is [this other blog post](https://www.pyimagesearch.com/2019/10/21/keras-vs-tf-keras-whats-the-difference-in-tensorflow-2-0/)\n"
   ]
  },
  {
   "cell_type": "markdown",
   "metadata": {},
   "source": [
    "#### Two ways to make a model\n",
    "\n",
    "We're going to familiarize ourselves with tensorflow and keras using a relevant example, involving image classification. Instead of our project task involving semantic segmentation (classification of every pixel), computer scientists tend to refer to classification of whole images as 'image classification'.\n",
    "\n",
    "```keras``` is accessed as ```tf.keras``` and its layers can be imported separately"
   ]
  },
  {
   "cell_type": "code",
   "execution_count": 20,
   "metadata": {},
   "outputs": [],
   "source": [
    "# Tensorflow keras layers\n",
    "from tensorflow.python.keras.layers import Dense, Flatten, Dropout, BatchNormalization"
   ]
  },
  {
   "cell_type": "markdown",
   "metadata": {},
   "source": [
    "In the above, we have imported 2 different types of layers (`Dense`, `Dropout`), and `Flatten` that isn't technically a layer but is classified as one because it transforms a layer's dimensions (specifically, it turns a 2D matrix into a 1D vector). We will encounter and discuss further the various layers in more depth in subsequent Parts, but `Dense` is a densely connected layer where each neuron of the previous layer connects to each neuron in the previous layer. `Dropout` is one of several strategies for preventing model overfitting. It randomly drops a certain proportion of neurons, to prevent the model 'memorizing' the data and promote model generalization"
   ]
  },
  {
   "cell_type": "markdown",
   "metadata": {},
   "source": [
    "This a simple neural network model with one hidden layer that receives a 28 x 28 pixel image, and outputs one of 10 values. It has one hidden layer with 128 neurons and a rectified linear unit (```relu```) activation function. Between the hidden layer and output (classifying) layer there is a dropout layer where 20 % of neurons are randomly discarded. Softmax is an activation function. See [here](https://towardsdatascience.com/softmax-function-simplified-714068bf8156) for a good explanation. See [here](https://keras.io/activations/) for alternatives. It might be a good idea to play with different activation functions to explore their utility and effects"
   ]
  },
  {
   "cell_type": "code",
   "execution_count": 21,
   "metadata": {},
   "outputs": [],
   "source": [
    "model = tf.keras.models.Sequential()\n",
    "model.add(Flatten(input_shape=(28,28)))\n",
    "model.add(Dense(units=128, activation='relu'))\n",
    "model.add(Dropout(0.2))\n",
    "model.add(Dense(units=10, activation='softmax'))"
   ]
  },
  {
   "cell_type": "markdown",
   "metadata": {},
   "source": [
    "Above we introduce the `Sequential` model. You should take some time to explore is numerous useful properties, such as \n",
    "\n",
    "1. `.summary()`, which shows the model architecture\n",
    "\n",
    "2. `.layers`, which lists the layers of the model and their shapes\n",
    "\n",
    "3. `.save()` saves the model in its current state of training, so you can keep a record of the state of the model at various points through training. Models can be recovered from a file using `tensorflow.keras.models.load_model()`\n",
    "\n",
    "4. `.save_weights()` saves only the weights of the model to a file\n",
    "\n",
    "5. `.inputs` and `.outputs` provide access to model inputs and outputs"
   ]
  },
  {
   "cell_type": "code",
   "execution_count": 22,
   "metadata": {},
   "outputs": [
    {
     "name": "stdout",
     "output_type": "stream",
     "text": [
      "Model: \"sequential\"\n",
      "_________________________________________________________________\n",
      "Layer (type)                 Output Shape              Param #   \n",
      "=================================================================\n",
      "flatten (Flatten)            (None, 784)               0         \n",
      "_________________________________________________________________\n",
      "dense (Dense)                (None, 128)               100480    \n",
      "_________________________________________________________________\n",
      "dropout (Dropout)            (None, 128)               0         \n",
      "_________________________________________________________________\n",
      "dense_1 (Dense)              (None, 10)                1290      \n",
      "=================================================================\n",
      "Total params: 101,770\n",
      "Trainable params: 101,770\n",
      "Non-trainable params: 0\n",
      "_________________________________________________________________\n"
     ]
    }
   ],
   "source": [
    "model.summary()"
   ]
  },
  {
   "cell_type": "markdown",
   "metadata": {},
   "source": [
    "That's the same as "
   ]
  },
  {
   "cell_type": "code",
   "execution_count": 23,
   "metadata": {},
   "outputs": [],
   "source": [
    "model = tf.keras.models.Sequential([\n",
    "  tf.keras.layers.Flatten(input_shape=(28, 28)),\n",
    "  tf.keras.layers.Dense(128, activation='relu'),\n",
    "  tf.keras.layers.Dropout(0.2),\n",
    "  tf.keras.layers.Dense(10, activation='softmax')\n",
    "])"
   ]
  },
  {
   "cell_type": "markdown",
   "metadata": {},
   "source": [
    "You can verify by comparing the two model summaries"
   ]
  },
  {
   "cell_type": "code",
   "execution_count": 24,
   "metadata": {},
   "outputs": [
    {
     "name": "stdout",
     "output_type": "stream",
     "text": [
      "Model: \"sequential_1\"\n",
      "_________________________________________________________________\n",
      "Layer (type)                 Output Shape              Param #   \n",
      "=================================================================\n",
      "flatten_1 (Flatten)          (None, 784)               0         \n",
      "_________________________________________________________________\n",
      "dense_2 (Dense)              (None, 128)               100480    \n",
      "_________________________________________________________________\n",
      "dropout_1 (Dropout)          (None, 128)               0         \n",
      "_________________________________________________________________\n",
      "dense_3 (Dense)              (None, 10)                1290      \n",
      "=================================================================\n",
      "Total params: 101,770\n",
      "Trainable params: 101,770\n",
      "Non-trainable params: 0\n",
      "_________________________________________________________________\n"
     ]
    }
   ],
   "source": [
    "model.summary()"
   ]
  },
  {
   "cell_type": "markdown",
   "metadata": {},
   "source": [
    "#### Working with imagery"
   ]
  },
  {
   "cell_type": "markdown",
   "metadata": {},
   "source": [
    "We'll use our model to classify imagery. Load the [MNIST dataset](http://yann.lecun.com/exdb/mnist/), split into test and training sets, and convert the samples from integers to floating-point numbers.\n",
    "\n",
    "The imagery data contained in the variables `x_test` and `x_train` are divided by 255.0 to normalize their values, such that all pixels have values that vary between 0 and 1, instead of 0 and 255 which is the the range of values for a standard 8-bit image"
   ]
  },
  {
   "cell_type": "code",
   "execution_count": 25,
   "metadata": {},
   "outputs": [
    {
     "name": "stdout",
     "output_type": "stream",
     "text": [
      "Downloading data from https://storage.googleapis.com/tensorflow/tf-keras-datasets/mnist.npz\n",
      "11493376/11490434 [==============================] - 4s 0us/step\n"
     ]
    }
   ],
   "source": [
    "mnist = tf.keras.datasets.mnist\n",
    "\n",
    "(x_train, y_train), (x_test, y_test) = mnist.load_data()\n",
    "x_train, x_test = x_train / 255.0, x_test / 255.0"
   ]
  },
  {
   "cell_type": "code",
   "execution_count": 26,
   "metadata": {},
   "outputs": [
    {
     "name": "stdout",
     "output_type": "stream",
     "text": [
      "# of train examples: 60000\n",
      "# of test examples: 10000\n",
      "Image shape: (28, 28)\n",
      "Pixel value interval: 0.0 1.0\n",
      "Train shape: (60000, 28, 28)\n",
      "Test shape: (10000, 28, 28)\n",
      "Image height: 28\n",
      "Image width: 28\n"
     ]
    }
   ],
   "source": [
    "import numpy as np\n",
    "\n",
    "# check some statistics\n",
    "IMAGE_HEIGHT, IMAGE_WIDTH = x_train.shape[1:3]\n",
    "print(\"# of train examples:\", x_train.shape[0])\n",
    "print(\"# of test examples:\", x_test.shape[0])\n",
    "print(\"Image shape:\", x_train[0].shape)\n",
    "print(\"Pixel value interval:\", np.min(x_train), np.max(x_train))\n",
    "print(\"Train shape:\",x_train.shape)\n",
    "print(\"Test shape:\",x_test.shape)\n",
    "print(\"Image height:\",IMAGE_HEIGHT)\n",
    "print(\"Image width:\",IMAGE_WIDTH)"
   ]
  },
  {
   "cell_type": "markdown",
   "metadata": {},
   "source": [
    "Take a look at some examples. Please remember that code such as this is provided as a succinct example workflow, but it is possible to develop similar 'solutions' on your own"
   ]
  },
  {
   "cell_type": "code",
   "execution_count": 27,
   "metadata": {},
   "outputs": [],
   "source": [
    "import matplotlib.pyplot as plt"
   ]
  },
  {
   "cell_type": "code",
   "execution_count": 28,
   "metadata": {},
   "outputs": [
    {
     "data": {
      "image/png": "[encoded data removed]",
      "text/plain": [
       "<Figure size 864x288 with 18 Axes>"
      ]
     },
     "metadata": {
      "needs_background": "light"
     },
     "output_type": "display_data"
    }
   ],
   "source": [
    "%matplotlib inline\n",
    "# visualize some of the examples\n",
    "fig, axs = plt.subplots(nrows=3, ncols=6, constrained_layout=False, figsize=(12,4))\n",
    "for i, ax in enumerate(axs.flat):\n",
    "    ax.imshow(x_train[i], cmap=\"gray\")"
   ]
  },
  {
   "cell_type": "markdown",
   "metadata": {},
   "source": [
    "Tensorboard is a tool for visualizing model training, such as how the loss function decreased, or accuracy increased, as a function of training epoch. Its use is often an essential part of optimizing model training"
   ]
  },
  {
   "cell_type": "code",
   "execution_count": 29,
   "metadata": {},
   "outputs": [],
   "source": [
    "from tensorflow.python.keras.callbacks import TensorBoard"
   ]
  },
  {
   "cell_type": "code",
   "execution_count": 30,
   "metadata": {},
   "outputs": [],
   "source": [
    "# Load the TensorBoard notebook extension\n",
    "%load_ext tensorboard\n",
    "%reload_ext tensorboard\n",
    "\n",
    "# create the tensorboard callback\n",
    "tensorboard = TensorBoard(log_dir='logs', histogram_freq=1)"
   ]
  },
  {
   "cell_type": "markdown",
   "metadata": {},
   "source": [
    "Calling `.compile()` is a required step before model training. The following must be specified:\n",
    "\n",
    "1. `optimizer` that performs the gradient descent (numerical solver)\n",
    "\n",
    "2. `loss` that is the metric to be optimized. Below we choose `sparse_categorical_crossentropy` because we have a categorical problem (hence `categorical_crossentropy`) that is not [one-hot-encoded](https://machinelearningmastery.com/why-one-hot-encode-data-in-machine-learning/) (hence `sparse`)\n",
    "\n",
    "3. `metrics`, which are additional metrics to evaluate during training  but, unlike loss, are not used in the training process"
   ]
  },
  {
   "cell_type": "code",
   "execution_count": 31,
   "metadata": {},
   "outputs": [],
   "source": [
    "model.compile(optimizer='adam',\n",
    "              loss='sparse_categorical_crossentropy',\n",
    "              metrics=['accuracy'])"
   ]
  },
  {
   "cell_type": "markdown",
   "metadata": {},
   "source": [
    "Train and evaluate the model:"
   ]
  },
  {
   "cell_type": "code",
   "execution_count": 32,
   "metadata": {},
   "outputs": [
    {
     "name": "stdout",
     "output_type": "stream",
     "text": [
      "Train on 60000 samples\n",
      "Epoch 1/5\n",
      "60000/60000 [==============================] - 5s 88us/sample - loss: 0.3000 - accuracy: 0.9118\n",
      "Epoch 2/5\n",
      "60000/60000 [==============================] - 5s 75us/sample - loss: 0.1459 - accuracy: 0.9570\n",
      "Epoch 3/5\n",
      "60000/60000 [==============================] - 4s 75us/sample - loss: 0.1091 - accuracy: 0.9664\n",
      "Epoch 4/5\n",
      "60000/60000 [==============================] - 4s 67us/sample - loss: 0.0882 - accuracy: 0.9729\n",
      "Epoch 5/5\n",
      "60000/60000 [==============================] - 4s 71us/sample - loss: 0.0760 - accuracy: 0.9762\n"
     ]
    },
    {
     "data": {
      "text/plain": [
       "<tensorflow.python.keras.callbacks.History at 0x19d6be63390>"
      ]
     },
     "execution_count": 32,
     "metadata": {},
     "output_type": "execute_result"
    }
   ],
   "source": [
    "model.fit(x_train, y_train, epochs=5, callbacks=[tensorboard])"
   ]
  },
  {
   "cell_type": "markdown",
   "metadata": {},
   "source": [
    "Launch tensorboard for visualizing model training. You should see graphs `epoch_accuracy` and `epoch_loss` that show accuracy and loss function value, respectively, as a function of training epoch"
   ]
  },
  {
   "cell_type": "code",
   "execution_count": 35,
   "metadata": {},
   "outputs": [
    {
     "data": {
      "text/plain": [
       "Reusing TensorBoard on port 6006 (pid 3020), started 0:01:27 ago. (Use '!kill 3020' to kill it.)"
      ]
     },
     "metadata": {},
     "output_type": "display_data"
    },
    {
     "data": {
      "text/html": [
       "\n",
       "      <iframe id=\"tensorboard-frame-f6b3c97e56478161\" width=\"100%\" height=\"800\" frameborder=\"0\">\n",
       "      </iframe>\n",
       "      <script>\n",
       "        (function() {\n",
       "          const frame = document.getElementById(\"tensorboard-frame-f6b3c97e56478161\");\n",
       "          const url = new URL(\"/\", window.location);\n",
       "          url.port = 6006;\n",
       "          frame.src = url;\n",
       "        })();\n",
       "      </script>\n",
       "  "
      ],
      "text/plain": [
       "<IPython.core.display.HTML object>"
      ]
     },
     "metadata": {},
     "output_type": "display_data"
    }
   ],
   "source": [
    "# launch TensorBoard from Jupyter\n",
    "%tensorboard --logdir logs"
   ]
  },
  {
   "cell_type": "markdown",
   "metadata": {},
   "source": [
    "Use the built-in ```evaluate``` function to see overall classification loss (first number) and accuracy (second number)"
   ]
  },
  {
   "cell_type": "code",
   "execution_count": 34,
   "metadata": {},
   "outputs": [
    {
     "data": {
      "text/plain": [
       "[0.07772794984970242, 0.9771]"
      ]
     },
     "execution_count": 34,
     "metadata": {},
     "output_type": "execute_result"
    }
   ],
   "source": [
    "model.evaluate(x_test, y_test, verbose=0)"
   ]
  },
  {
   "cell_type": "markdown",
   "metadata": {},
   "source": [
    "The image classifier is now trained to ~98% accuracy on this dataset. "
   ]
  },
  {
   "cell_type": "markdown",
   "metadata": {},
   "source": [
    "#### Plot the Confusion Matrix\n",
    "A ‘confusion matrix’, which is the matrix of normalized correspondences between true and estimated labels, is a convenient way to visualize model skill. \n",
    "\n",
    "A perfect correspondence between true and estimated labels is scored 1.0 along the diagonal elements of the matrix.\n",
    "\n",
    "Misclassiﬁcations are readily identiﬁed as off-diagonal elements. Systematic misclassiﬁcations are recognized as off-diagonal elements with large magnitudes. "
   ]
  },
  {
   "cell_type": "code",
   "execution_count": 36,
   "metadata": {},
   "outputs": [],
   "source": [
    "from sklearn.metrics import confusion_matrix"
   ]
  },
  {
   "cell_type": "markdown",
   "metadata": {},
   "source": [
    "The function below is long and might be difficult to follow in parts. This is a good time to remind you that that's ok; you will see this function again, and it isn't crucial to any workflow you will develop. It serves only to exemplify and guide, and many the details of many of the long functions such as these are largely unimportant"
   ]
  },
  {
   "cell_type": "code",
   "execution_count": 37,
   "metadata": {},
   "outputs": [],
   "source": [
    "def plot_confusion_matrix(y_true, y_pred, classes,\n",
    "                          normalize=False,\n",
    "                          title=None,\n",
    "                          cmap=plt.cm.Blues):\n",
    "    \"\"\"\n",
    "    This function prints and plots the confusion matrix.\n",
    "    Normalization can be applied by setting `normalize=True`.\n",
    "    \"\"\"\n",
    "    if not title:\n",
    "        if normalize:\n",
    "            title = 'Normalized confusion matrix'\n",
    "        else:\n",
    "            title = 'Confusion matrix, without normalization'\n",
    "\n",
    "    # Compute confusion matrix\n",
    "    cm = confusion_matrix(y_true, y_pred)\n",
    "\n",
    "    if normalize:\n",
    "        cm = cm.astype('float') / cm.sum(axis=1)[:, np.newaxis]\n",
    "        print(\"Normalized confusion matrix\")\n",
    "    else:\n",
    "        print('Confusion matrix, without normalization')\n",
    "\n",
    "    fig, ax = plt.subplots(figsize=(8,8))\n",
    "    im = ax.imshow(cm, interpolation='nearest', cmap=cmap)\n",
    "    ax.figure.colorbar(im, ax=ax)\n",
    "    # We want to show all ticks...\n",
    "    ax.set(xticks=np.arange(cm.shape[1]),\n",
    "           yticks=np.arange(cm.shape[0]),\n",
    "           # ... and label them with the respective list entries\n",
    "           xticklabels=classes, yticklabels=classes,\n",
    "           title=title,\n",
    "           ylabel='True label',\n",
    "           xlabel='Predicted label')\n",
    "    \n",
    "    # Rotate the tick labels and set their alignment.\n",
    "    plt.setp(ax.get_xticklabels(), rotation=45, ha=\"right\",\n",
    "             rotation_mode=\"anchor\")\n",
    "\n",
    "    # Loop over data dimensions and create text annotations.\n",
    "    fmt = '.2f' if normalize else 'd'\n",
    "    thresh = cm.max() / 2.\n",
    "    for i in range(cm.shape[0]):\n",
    "        for j in range(cm.shape[1]):\n",
    "            ax.text(j, i, format(cm[i, j], fmt),\n",
    "                    ha=\"center\", va=\"center\",\n",
    "                    color=\"white\" if cm[i, j] > thresh else \"black\")\n",
    "    fig.tight_layout()\n",
    "    return ax"
   ]
  },
  {
   "cell_type": "markdown",
   "metadata": {},
   "source": [
    "Use the built-in ```predict``` function to create a vector of predicted classes for each input in the ```x_test``` set. These values are one-hot encoded, which means we recover the most likely class using the ```argmax``` function (i.e. the location in the vector, ```predictions```, of the maximum value)"
   ]
  },
  {
   "cell_type": "code",
   "execution_count": 38,
   "metadata": {},
   "outputs": [],
   "source": [
    "# Test your model using the test data\n",
    "predictions = model.predict(x_test)\n",
    "predictions = tf.argmax(predictions, axis=1)"
   ]
  },
  {
   "cell_type": "code",
   "execution_count": 39,
   "metadata": {},
   "outputs": [
    {
     "name": "stdout",
     "output_type": "stream",
     "text": [
      "Confusion matrix, without normalization\n"
     ]
    },
    {
     "data": {
      "text/plain": [
       "<AxesSubplot:title={'center':'Confusion matrix, without normalization'}, xlabel='Predicted label', ylabel='True label'>"
      ]
     },
     "execution_count": 39,
     "metadata": {},
     "output_type": "execute_result"
    },
    {
     "data": {
      "image/png": "[encoded data removed]",
      "text/plain": [
       "<Figure size 576x576 with 2 Axes>"
      ]
     },
     "metadata": {
      "needs_background": "light"
     },
     "output_type": "display_data"
    }
   ],
   "source": [
    "# check the confusion matrix\n",
    "classes=['0','1','2','3','4','5','6','7','8','9']\n",
    "\n",
    "plot_confusion_matrix(y_test, predictions, classes)"
   ]
  },
  {
   "cell_type": "markdown",
   "metadata": {},
   "source": [
    "The above demonstration shows that for relatively simple classification tasks (i.e. recognizing handwritten digits) doesn't necessarily require deep learning. Our network was small, consisting of only one hidden layer. In the next task we will be using much bigger, more powerful networks."
   ]
  },
  {
   "cell_type": "markdown",
   "metadata": {},
   "source": [
    "<table style=\"font-size: 1em; padding: 0; margin: 0;\">\n",
    "<p style=\"border: 1px solid #ff5733; border-left: 15px solid #ff5733; padding: 10px; text-align:justify;\">\n",
    "    <strong style=\"color: #ff5733\">Deliverable</strong>  \n",
    "    <br/>The deliverable for Part 1 is a jupyter notebook showing an example image(s) of a satellite dataset read in using rasterio, and demonstration of a function that carries out a manipulation of that image using keras and Tensorflow 2.0. That manipulation could be anything that alters the image, such as its size, geometry (shape), pixel intensities, or spatial projection. This will mostly test your understanding of keras syntax, which is an essential component of the remaining Parts. You may find the <a href=\"https://www.tensorflow.org/api_docs/python/tf/image\">tensorflow-image</a> library helpful.\n",
    "    </p>"
   ]
  },
  {
   "cell_type": "markdown",
   "metadata": {},
   "source": [
    "<table style=\"font-size: 1em; padding: 0; margin: 0;\">\n",
    "\n",
    "<h1 style=\"width: 100%; text-align: left; padding: 0px 25px;\"><small style=\"color: #182AEB;\">\n",
    "    </small><br/>Going further: <br/> Introduction to satellite imagery</h1>  \n",
    "<br/>\n",
    "<p style=\"border-left: 15px solid #182AEB; text-align:justify; padding: 0 10px;\">\n",
    "    <strong style=\"color: #182AEB;\">Intro.</strong>\n",
    "    The <a href=\"https://sentinels.copernicus.eu/\">Sentinel satellites</a> are part of Europe’s <a href=\"http://copernicus.eu/\">Copernicus </a> programme (formerly known as Global Monitoring for Environment and Security (GMES)). The overall mission is composed of five constellations of satellites. The Sentinel-2 mission consists of two satellites with a multi-spectral instrument for monitoring agriculture, vegetation and forests, land cover change, coastal zones, inland water monitoring, glaciers, ice extent and snow cover.\n",
    "</p>\n",
    "<p style=\"border-left: 15px solid #6019D6; padding: 0 10px; text-align:justify;\">\n",
    "    <strong style=\"color: #6019D6;\">Tip.</strong> \n",
    "    A comprehensive introduction to the mission and its data can be found <a href=\"https://eox.at/2015/12/understanding-sentinel-2-satellite-data/\"> here</a>. Your starting point for all data services is <a href=\"https://www.sentinel-hub.com/sentinel-2\">Sentinel Hub </a></p>\n",
    "\n",
    "<p style=\"border-left: 15px solid #4E9317; padding: 0 10px; text-align:justify;\">\n",
    "    <strong style=\"color: #4E9317;\">More Resources.</strong> \n",
    "<ul>\n",
    "  <li><a href=\"https://krstn.eu/download-Sentinel-2-images/\">Another guide to using sentinselsat</a></li>    \n",
    "  <li><a href=\"https://automating-gis-processes.github.io/CSC18/lessons/L6/raster-mosaic.html\">Using rasterio</a></li>\n",
    "</ul>\n",
    "        </tr>\n",
    "        </table>"
   ]
  },
  {
   "cell_type": "markdown",
   "metadata": {},
   "source": [
    "#### Importing a satellite image using rasterio"
   ]
  },
  {
   "cell_type": "code",
   "execution_count": null,
   "metadata": {},
   "outputs": [],
   "source": [
    "! conda install rasterio"
   ]
  },
  {
   "cell_type": "code",
   "execution_count": 8,
   "metadata": {},
   "outputs": [
    {
     "ename": "ImportError",
     "evalue": "DLL load failed: Não foi possível encontrar o procedimento especificado.",
     "output_type": "error",
     "traceback": [
      "\u001b[1;31m---------------------------------------------------------------------------\u001b[0m",
      "\u001b[1;31mImportError\u001b[0m                               Traceback (most recent call last)",
      "\u001b[1;32m<ipython-input-8-ee38efafc30b>\u001b[0m in \u001b[0;36m<module>\u001b[1;34m\u001b[0m\n\u001b[1;32m----> 1\u001b[1;33m \u001b[1;32mimport\u001b[0m \u001b[0mgdal\u001b[0m\u001b[1;33m\u001b[0m\u001b[0m\n\u001b[0m",
      "\u001b[1;32m~\\.conda\\envs\\liveproject\\lib\\site-packages\\gdal.py\u001b[0m in \u001b[0;36m<module>\u001b[1;34m\u001b[0m\n\u001b[0;32m      1\u001b[0m \u001b[1;31m# import osgeo.gdal as a convenience\u001b[0m\u001b[1;33m\u001b[0m\u001b[1;33m\u001b[0m\u001b[0m\n\u001b[1;32m----> 2\u001b[1;33m \u001b[1;32mfrom\u001b[0m \u001b[0mosgeo\u001b[0m\u001b[1;33m.\u001b[0m\u001b[0mgdal\u001b[0m \u001b[1;32mimport\u001b[0m \u001b[0mdeprecation_warn\u001b[0m\u001b[1;33m\u001b[0m\u001b[0m\n\u001b[0m\u001b[0;32m      3\u001b[0m \u001b[0mdeprecation_warn\u001b[0m\u001b[1;33m(\u001b[0m\u001b[1;34m'gdal'\u001b[0m\u001b[1;33m)\u001b[0m\u001b[1;33m\u001b[0m\u001b[0m\n\u001b[0;32m      4\u001b[0m \u001b[1;33m\u001b[0m\u001b[0m\n\u001b[0;32m      5\u001b[0m \u001b[1;32mfrom\u001b[0m \u001b[0mosgeo\u001b[0m\u001b[1;33m.\u001b[0m\u001b[0mgdal\u001b[0m \u001b[1;32mimport\u001b[0m \u001b[1;33m*\u001b[0m\u001b[1;33m\u001b[0m\u001b[0m\n",
      "\u001b[1;32m~\\.conda\\envs\\liveproject\\lib\\site-packages\\osgeo\\__init__.py\u001b[0m in \u001b[0;36m<module>\u001b[1;34m\u001b[0m\n\u001b[0;32m     19\u001b[0m                 \u001b[0mfp\u001b[0m\u001b[1;33m.\u001b[0m\u001b[0mclose\u001b[0m\u001b[1;33m(\u001b[0m\u001b[1;33m)\u001b[0m\u001b[1;33m\u001b[0m\u001b[0m\n\u001b[0;32m     20\u001b[0m             \u001b[1;32mreturn\u001b[0m \u001b[0m_mod\u001b[0m\u001b[1;33m\u001b[0m\u001b[0m\n\u001b[1;32m---> 21\u001b[1;33m     \u001b[0m_gdal\u001b[0m \u001b[1;33m=\u001b[0m \u001b[0mswig_import_helper\u001b[0m\u001b[1;33m(\u001b[0m\u001b[1;33m)\u001b[0m\u001b[1;33m\u001b[0m\u001b[0m\n\u001b[0m\u001b[0;32m     22\u001b[0m     \u001b[1;32mdel\u001b[0m \u001b[0mswig_import_helper\u001b[0m\u001b[1;33m\u001b[0m\u001b[0m\n\u001b[0;32m     23\u001b[0m \u001b[1;32melse\u001b[0m\u001b[1;33m:\u001b[0m\u001b[1;33m\u001b[0m\u001b[0m\n",
      "\u001b[1;32m~\\.conda\\envs\\liveproject\\lib\\site-packages\\osgeo\\__init__.py\u001b[0m in \u001b[0;36mswig_import_helper\u001b[1;34m()\u001b[0m\n\u001b[0;32m     15\u001b[0m         \u001b[1;32mif\u001b[0m \u001b[0mfp\u001b[0m \u001b[1;32mis\u001b[0m \u001b[1;32mnot\u001b[0m \u001b[1;32mNone\u001b[0m\u001b[1;33m:\u001b[0m\u001b[1;33m\u001b[0m\u001b[0m\n\u001b[0;32m     16\u001b[0m             \u001b[1;32mtry\u001b[0m\u001b[1;33m:\u001b[0m\u001b[1;33m\u001b[0m\u001b[0m\n\u001b[1;32m---> 17\u001b[1;33m                 \u001b[0m_mod\u001b[0m \u001b[1;33m=\u001b[0m \u001b[0mimp\u001b[0m\u001b[1;33m.\u001b[0m\u001b[0mload_module\u001b[0m\u001b[1;33m(\u001b[0m\u001b[1;34m'_gdal'\u001b[0m\u001b[1;33m,\u001b[0m \u001b[0mfp\u001b[0m\u001b[1;33m,\u001b[0m \u001b[0mpathname\u001b[0m\u001b[1;33m,\u001b[0m \u001b[0mdescription\u001b[0m\u001b[1;33m)\u001b[0m\u001b[1;33m\u001b[0m\u001b[0m\n\u001b[0m\u001b[0;32m     18\u001b[0m             \u001b[1;32mfinally\u001b[0m\u001b[1;33m:\u001b[0m\u001b[1;33m\u001b[0m\u001b[0m\n\u001b[0;32m     19\u001b[0m                 \u001b[0mfp\u001b[0m\u001b[1;33m.\u001b[0m\u001b[0mclose\u001b[0m\u001b[1;33m(\u001b[0m\u001b[1;33m)\u001b[0m\u001b[1;33m\u001b[0m\u001b[0m\n",
      "\u001b[1;32m~\\.conda\\envs\\liveproject\\lib\\imp.py\u001b[0m in \u001b[0;36mload_module\u001b[1;34m(name, file, filename, details)\u001b[0m\n\u001b[0;32m    241\u001b[0m                 \u001b[1;32mreturn\u001b[0m \u001b[0mload_dynamic\u001b[0m\u001b[1;33m(\u001b[0m\u001b[0mname\u001b[0m\u001b[1;33m,\u001b[0m \u001b[0mfilename\u001b[0m\u001b[1;33m,\u001b[0m \u001b[0mopened_file\u001b[0m\u001b[1;33m)\u001b[0m\u001b[1;33m\u001b[0m\u001b[0m\n\u001b[0;32m    242\u001b[0m         \u001b[1;32melse\u001b[0m\u001b[1;33m:\u001b[0m\u001b[1;33m\u001b[0m\u001b[0m\n\u001b[1;32m--> 243\u001b[1;33m             \u001b[1;32mreturn\u001b[0m \u001b[0mload_dynamic\u001b[0m\u001b[1;33m(\u001b[0m\u001b[0mname\u001b[0m\u001b[1;33m,\u001b[0m \u001b[0mfilename\u001b[0m\u001b[1;33m,\u001b[0m \u001b[0mfile\u001b[0m\u001b[1;33m)\u001b[0m\u001b[1;33m\u001b[0m\u001b[0m\n\u001b[0m\u001b[0;32m    244\u001b[0m     \u001b[1;32melif\u001b[0m \u001b[0mtype_\u001b[0m \u001b[1;33m==\u001b[0m \u001b[0mPKG_DIRECTORY\u001b[0m\u001b[1;33m:\u001b[0m\u001b[1;33m\u001b[0m\u001b[0m\n\u001b[0;32m    245\u001b[0m         \u001b[1;32mreturn\u001b[0m \u001b[0mload_package\u001b[0m\u001b[1;33m(\u001b[0m\u001b[0mname\u001b[0m\u001b[1;33m,\u001b[0m \u001b[0mfilename\u001b[0m\u001b[1;33m)\u001b[0m\u001b[1;33m\u001b[0m\u001b[0m\n",
      "\u001b[1;32m~\\.conda\\envs\\liveproject\\lib\\imp.py\u001b[0m in \u001b[0;36mload_dynamic\u001b[1;34m(name, path, file)\u001b[0m\n\u001b[0;32m    341\u001b[0m         spec = importlib.machinery.ModuleSpec(\n\u001b[0;32m    342\u001b[0m             name=name, loader=loader, origin=path)\n\u001b[1;32m--> 343\u001b[1;33m         \u001b[1;32mreturn\u001b[0m \u001b[0m_load\u001b[0m\u001b[1;33m(\u001b[0m\u001b[0mspec\u001b[0m\u001b[1;33m)\u001b[0m\u001b[1;33m\u001b[0m\u001b[0m\n\u001b[0m\u001b[0;32m    344\u001b[0m \u001b[1;33m\u001b[0m\u001b[0m\n\u001b[0;32m    345\u001b[0m \u001b[1;32melse\u001b[0m\u001b[1;33m:\u001b[0m\u001b[1;33m\u001b[0m\u001b[0m\n",
      "\u001b[1;31mImportError\u001b[0m: DLL load failed: Não foi possível encontrar o procedimento especificado."
     ]
    }
   ],
   "source": [
    "import gdal\n"
   ]
  },
  {
   "cell_type": "markdown",
   "metadata": {},
   "source": [
    "##### Download a sample Sentinel-2 JP2 (JPEG2000) file from google drive\n",
    "\n",
    "The details of this function are unimportant"
   ]
  },
  {
   "cell_type": "code",
   "execution_count": 3,
   "metadata": {},
   "outputs": [],
   "source": [
    "# from https://stackoverflow.com/questions/38511444/python-download-files-from-google-drive-using-url\n",
    "import requests\n",
    "\n",
    "def download_file_from_google_drive(id, destination):\n",
    "    URL = \"https://docs.google.com/uc?export=download\"\n",
    "\n",
    "    session = requests.Session()\n",
    "\n",
    "    response = session.get(URL, params = { 'id' : id }, stream = True)\n",
    "    token = get_confirm_token(response)\n",
    "\n",
    "    if token:\n",
    "        params = { 'id' : id, 'confirm' : token }\n",
    "        response = session.get(URL, params = params, stream = True)\n",
    "\n",
    "    save_response_content(response, destination)    \n",
    "\n",
    "def get_confirm_token(response):\n",
    "    for key, value in response.cookies.items():\n",
    "        if key.startswith('download_warning'):\n",
    "            return value\n",
    "\n",
    "    return None\n",
    "\n",
    "def save_response_content(response, destination):\n",
    "    CHUNK_SIZE = 32768\n",
    "\n",
    "    with open(destination, \"wb\") as f:\n",
    "        for chunk in response.iter_content(CHUNK_SIZE):\n",
    "            if chunk: # filter out keep-alive new chunks\n",
    "                f.write(chunk)"
   ]
  },
  {
   "cell_type": "code",
   "execution_count": 4,
   "metadata": {},
   "outputs": [],
   "source": [
    "file_id = '1o76QoBtn6ExxO8KgcCqdOiun_KsWoMJl'\n",
    "destination = 'example_TCI_10m.jp2'\n",
    "download_file_from_google_drive(file_id, destination)"
   ]
  },
  {
   "cell_type": "markdown",
   "metadata": {},
   "source": [
    "Read first band of the jp2 file into an array"
   ]
  },
  {
   "cell_type": "code",
   "execution_count": 5,
   "metadata": {},
   "outputs": [
    {
     "ename": "NameError",
     "evalue": "name 'rasterio' is not defined",
     "output_type": "error",
     "traceback": [
      "\u001b[1;31m---------------------------------------------------------------------------\u001b[0m",
      "\u001b[1;31mNameError\u001b[0m                                 Traceback (most recent call last)",
      "\u001b[1;32m<ipython-input-5-5e082e92fe2c>\u001b[0m in \u001b[0;36m<module>\u001b[1;34m\u001b[0m\n\u001b[1;32m----> 1\u001b[1;33m \u001b[1;32mwith\u001b[0m \u001b[0mrasterio\u001b[0m\u001b[1;33m.\u001b[0m\u001b[0mopen\u001b[0m\u001b[1;33m(\u001b[0m\u001b[1;34m'example_TCI_10m.jp2'\u001b[0m\u001b[1;33m,\u001b[0m \u001b[0mdriver\u001b[0m\u001b[1;33m=\u001b[0m\u001b[1;34m'JP2OpenJPEG'\u001b[0m\u001b[1;33m)\u001b[0m \u001b[1;32mas\u001b[0m \u001b[0mdataset\u001b[0m\u001b[1;33m:\u001b[0m\u001b[1;33m\u001b[0m\u001b[0m\n\u001b[0m\u001b[0;32m      2\u001b[0m     \u001b[0marray\u001b[0m \u001b[1;33m=\u001b[0m \u001b[0mdataset\u001b[0m\u001b[1;33m.\u001b[0m\u001b[0mread\u001b[0m\u001b[1;33m(\u001b[0m\u001b[1;36m1\u001b[0m\u001b[1;33m)\u001b[0m\u001b[1;33m\u001b[0m\u001b[0m\n\u001b[0;32m      3\u001b[0m     \u001b[0mprint\u001b[0m\u001b[1;33m(\u001b[0m\u001b[0mdataset\u001b[0m\u001b[1;33m.\u001b[0m\u001b[0mprofile\u001b[0m\u001b[1;33m)\u001b[0m\u001b[1;33m\u001b[0m\u001b[0m\n",
      "\u001b[1;31mNameError\u001b[0m: name 'rasterio' is not defined"
     ]
    }
   ],
   "source": [
    "with rasterio.open('example_TCI_10m.jp2', driver='JP2OpenJPEG') as dataset:\n",
    "    array = dataset.read(1)\n",
    "    print(dataset.profile)"
   ]
  },
  {
   "cell_type": "markdown",
   "metadata": {},
   "source": [
    "count = 3 means there are three bands in the raster:\n",
    "\n",
    "* Band 1 - the blue band\n",
    "* Band 2 - the green band\n",
    "* Band 3 - the red band\n",
    "\n",
    "A few more jp2 images can be downloaded using the following file id: 1o76QoBtn6ExxO8KgcCqdOiun_KsWoMJl. This is a zipped folder 120 MB in size containing several images of the area around Lake Poopó, Bolivia"
   ]
  },
  {
   "cell_type": "markdown",
   "metadata": {},
   "source": [
    "#### Writing a satellite image to geotiff using rasterio\n",
    "\n",
    "The following function takes a JP2 image, an output file name (with tiff extension) and a single band number (1, 2, or 3) and writes the raster to the new file"
   ]
  },
  {
   "cell_type": "code",
   "execution_count": null,
   "metadata": {},
   "outputs": [],
   "source": [
    "def write_image(input, output, band):\n",
    "    with rasterio.open(input) as src_dataset:\n",
    "        with rasterio.open('example_TCI_10m.jp2', driver='JP2OpenJPEG') as dataset:\n",
    "            array = dataset.read(band)\n",
    "        # Get a copy of the source dataset's profile. Thus our\n",
    "        # destination dataset will have the same dimensions,\n",
    "        # number of bands, data type, and georeferencing as the\n",
    "        # source dataset.\n",
    "        kwds = src_dataset.profile\n",
    "\n",
    "        # Change the format driver for the destination dataset to\n",
    "        # 'GTiff', short for GeoTIFF.\n",
    "        kwds['driver'] = 'GTiff'\n",
    "\n",
    "        # Add GeoTIFF-specific keyword arguments.\n",
    "        kwds['tiled'] = True\n",
    "        kwds['blockxsize'] = 256\n",
    "        kwds['blockysize'] = 256\n",
    "        kwds['photometric'] = 'YCbCr'\n",
    "        kwds['compress'] = 'JPEG'\n",
    "\n",
    "        with rasterio.open(output, 'w', **kwds) as dst_dataset:\n",
    "            # Write data to the destination dataset.\n",
    "            dst_dataset.write(array.astype(rasterio.uint8), 1)"
   ]
  },
  {
   "cell_type": "markdown",
   "metadata": {},
   "source": [
    "Here is the list of files we will create, each with a 1-band raster"
   ]
  },
  {
   "cell_type": "code",
   "execution_count": null,
   "metadata": {},
   "outputs": [],
   "source": [
    "file_list = ['r1.tif', 'r2.tif', 'r3.tif']"
   ]
  },
  {
   "cell_type": "markdown",
   "metadata": {},
   "source": [
    "We use list comprehension to call the ```write_image``` function for all 3 bands in turn"
   ]
  },
  {
   "cell_type": "code",
   "execution_count": null,
   "metadata": {},
   "outputs": [],
   "source": [
    "[write_image('example_TCI_10m.jp2',f, band) for f,band in zip(file_list, [1,2,3])]"
   ]
  },
  {
   "cell_type": "markdown",
   "metadata": {},
   "source": [
    "This next bit of code gets the meta data from the first file (that is the same as the remaining two files), and writes a merged 3-band raster in geoTIFF format"
   ]
  },
  {
   "cell_type": "code",
   "execution_count": null,
   "metadata": {},
   "outputs": [],
   "source": [
    "# Read metadata of first file\n",
    "with rasterio.open(file_list[0]) as src0:\n",
    "    meta = src0.meta\n",
    "\n",
    "# Update meta to reflect the number of layers\n",
    "meta.update(count = len(file_list))\n",
    "\n",
    "# Read each layer and write it to stack\n",
    "with rasterio.open('stack.tif', 'w', **meta) as dst:\n",
    "    for id, layer in enumerate(file_list, start=1):\n",
    "        with rasterio.open(layer) as src1:\n",
    "            dst.write_band(id, src1.read(1))"
   ]
  },
  {
   "cell_type": "markdown",
   "metadata": {},
   "source": [
    "We're now done with the three intermediate files, so we can delete them to save space"
   ]
  },
  {
   "cell_type": "code",
   "execution_count": null,
   "metadata": {},
   "outputs": [],
   "source": [
    "[os.remove(f) for f in file_list]"
   ]
  },
  {
   "cell_type": "markdown",
   "metadata": {},
   "source": [
    "Display the new meta data that shows the Coordinate Reference System or CRS. The EPSG code is 32719"
   ]
  },
  {
   "cell_type": "code",
   "execution_count": null,
   "metadata": {},
   "outputs": [],
   "source": [
    "meta"
   ]
  },
  {
   "cell_type": "markdown",
   "metadata": {},
   "source": [
    "#### Image spatial projections"
   ]
  },
  {
   "cell_type": "markdown",
   "metadata": {},
   "source": [
    "Next we're going to reproject our raster so it is in a different spatial projection. This involves specifying a new CRS (this time we use EPSG code 4326)\n",
    "\n",
    "Example modified from https://rasterio.readthedocs.io/en/stable/topics/reproject.html"
   ]
  },
  {
   "cell_type": "markdown",
   "metadata": {},
   "source": [
    "First we import some utility functions from rasterio that will create and apply the transformation. Again we use a nested 'with statement' to first read in the raster to be projected (```stack.tif```) and then write out the reprojected raster (```reprojected_stack.tif```)"
   ]
  },
  {
   "cell_type": "code",
   "execution_count": null,
   "metadata": {},
   "outputs": [],
   "source": [
    "from rasterio.warp import calculate_default_transform, reproject, Resampling\n",
    "\n",
    "dst_crs = 'EPSG:4326'\n",
    "\n",
    "# note there is a nested 'with statement' here\n",
    "# the first 'with' command opens the image as src\n",
    "with rasterio.open('stack.tif') as src:\n",
    "    transform, width, height = calculate_default_transform(\n",
    "        src.crs, dst_crs, src.width, src.height, *src.bounds)\n",
    "    kwargs = src.meta.copy()\n",
    "    kwargs.update({\n",
    "        'crs': dst_crs,\n",
    "        'transform': transform,\n",
    "        'width': width,\n",
    "        'height': height\n",
    "    })\n",
    "# the second 'with' statement opens an image for writing\n",
    "    with rasterio.open('reprojected_stack.tif', 'w', **kwargs) as dst:\n",
    "        for i in range(1, src.count + 1):\n",
    "            reproject(\n",
    "                source=rasterio.band(src, i),\n",
    "                destination=rasterio.band(dst, i),\n",
    "                src_transform=src.transform,\n",
    "                src_crs=src.crs,\n",
    "                dst_transform=transform,\n",
    "                dst_crs=dst_crs,\n",
    "                resampling=Resampling.nearest)"
   ]
  },
  {
   "cell_type": "code",
   "execution_count": 6,
   "metadata": {},
   "outputs": [
    {
     "name": "stdout",
     "output_type": "stream",
     "text": [
      "Loading channels: ...working... done\n",
      "# Name                       Version           Build  Channel             \n",
      "python                        2.7.12               0  conda-forge         \n",
      "python                        2.7.12               1  conda-forge         \n",
      "python                        2.7.12               2  conda-forge         \n",
      "python                        2.7.13               1  conda-forge         \n",
      "python                        2.7.13     h1b6d89f_16  pkgs/main           \n",
      "python                        2.7.13     h9912b81_15  pkgs/main           \n",
      "python                        2.7.13     hb034564_12  pkgs/main           \n",
      "python                        2.7.14               0  conda-forge         \n",
      "python                        2.7.14               1  conda-forge         \n",
      "python                        2.7.14               2  conda-forge         \n",
      "python                        2.7.14               3  conda-forge         \n",
      "python                        2.7.14               4  conda-forge         \n",
      "python                        2.7.14               5  conda-forge         \n",
      "python                        2.7.14     h2765ee6_18  pkgs/main           \n",
      "python                        2.7.14     h3e68818_15  pkgs/main           \n",
      "python                        2.7.14     h4084c39_22  pkgs/main           \n",
      "python                        2.7.14     h4a10d90_30  pkgs/main           \n",
      "python                        2.7.14     h4a10d90_31  pkgs/main           \n",
      "python                        2.7.14     h59f5a59_20  pkgs/main           \n",
      "python                        2.7.14     h819644d_16  pkgs/main           \n",
      "python                        2.7.14     h8c3f1cb_23  pkgs/main           \n",
      "python                        2.7.15               0  conda-forge         \n",
      "python                        2.7.15      h2880e7c_0  conda-forge         \n",
      "python                        2.7.15   h2880e7c_1001  conda-forge         \n",
      "python                        2.7.15   h2880e7c_1002  conda-forge         \n",
      "python                        2.7.15   h2880e7c_1003  conda-forge         \n",
      "python                        2.7.15   h2880e7c_1004  conda-forge         \n",
      "python                        2.7.15   h2880e7c_1005  conda-forge         \n",
      "python                        2.7.15   h2880e7c_1006  conda-forge         \n",
      "python                        2.7.15   h2880e7c_1008  conda-forge         \n",
      "python                        2.7.15   h2880e7c_1009  conda-forge         \n",
      "python                        2.7.15 h2880e7c_1010_cpython  conda-forge         \n",
      "python                        2.7.15 h2880e7c_1011_cpython  conda-forge         \n",
      "python                        2.7.15      h2880e7c_2  pkgs/main           \n",
      "python                        2.7.15      h2880e7c_3  pkgs/main           \n",
      "python                        2.7.15      h2880e7c_4  pkgs/main           \n",
      "python                        2.7.15     hcb6e200_15  pkgs/main           \n",
      "python                        2.7.15      hcb6e200_5  pkgs/main           \n",
      "python                        2.7.15      hcb6e200_7  pkgs/main           \n",
      "python                        2.7.15      he216670_0  pkgs/main           \n",
      "python                        2.7.16      hcb6e200_0  pkgs/main           \n",
      "python                        2.7.17      h930f6bb_0  pkgs/main           \n",
      "python                        2.7.18      hcb6e200_0  pkgs/main           \n",
      "python                        2.7.18      hfb89ab9_0  pkgs/main           \n",
      "python                         3.4.5               0  conda-forge         \n",
      "python                         3.4.5               1  conda-forge         \n",
      "python                         3.4.5               2  conda-forge         \n",
      "python                         3.5.1               0  conda-forge         \n",
      "python                         3.5.1               1  conda-forge         \n",
      "python                         3.5.2               0  conda-forge         \n",
      "python                         3.5.2               1  conda-forge         \n",
      "python                         3.5.2               2  conda-forge         \n",
      "python                         3.5.2               4  conda-forge         \n",
      "python                         3.5.2               5  conda-forge         \n",
      "python                         3.5.3               0  conda-forge         \n",
      "python                         3.5.3               1  conda-forge         \n",
      "python                         3.5.3               2  conda-forge         \n",
      "python                         3.5.3               3  conda-forge         \n",
      "python                         3.5.4               0  conda-forge         \n",
      "python                         3.5.4               1  conda-forge         \n",
      "python                         3.5.4               2  conda-forge         \n",
      "python                         3.5.4               3  conda-forge         \n",
      "python                         3.5.4     h1357f44_23  pkgs/main           \n",
      "python                         3.5.4     hc495aa9_21  pkgs/main           \n",
      "python                         3.5.4     hd3c4935_11  pkgs/main           \n",
      "python                         3.5.4     hdec4e59_20  pkgs/main           \n",
      "python                         3.5.4     hedc2606_15  pkgs/main           \n",
      "python                         3.5.5               0  conda-forge         \n",
      "python                         3.5.5               1  conda-forge         \n",
      "python                         3.5.5      h0c2934d_0  pkgs/main           \n",
      "python                         3.5.5      h0c2934d_1  pkgs/main           \n",
      "python                         3.5.5      h0c2934d_2  pkgs/main           \n",
      "python                         3.5.5      he025d50_2  conda-forge         \n",
      "python                         3.5.6      he025d50_0  pkgs/main           \n",
      "python                       3.6.0a3               0  conda-forge         \n",
      "python                       3.6.0a4               0  conda-forge         \n",
      "python                       3.6.0b1               0  conda-forge         \n",
      "python                       3.6.0b2               0  conda-forge         \n",
      "python                       3.6.0b3               0  conda-forge         \n",
      "python                       3.6.0b4               0  conda-forge         \n",
      "python                      3.6.0rc1               0  conda-forge         \n",
      "python                         3.6.0               0  conda-forge         \n",
      "python                         3.6.0               1  conda-forge         \n",
      "python                         3.6.0               2  conda-forge         \n",
      "python                         3.6.1               0  conda-forge         \n",
      "python                         3.6.1               1  conda-forge         \n",
      "python                         3.6.1               2  conda-forge         \n",
      "python                         3.6.1               3  conda-forge         \n",
      "python                         3.6.2               0  conda-forge         \n",
      "python                         3.6.2     h09676a0_15  pkgs/main           \n",
      "python                         3.6.2     h6679aeb_11  pkgs/main           \n",
      "python                         3.6.3               0  conda-forge         \n",
      "python                         3.6.3               1  conda-forge         \n",
      "python                         3.6.3               2  conda-forge         \n",
      "python                         3.6.3               3  conda-forge         \n",
      "python                         3.6.3               4  conda-forge         \n",
      "python                         3.6.3      h210ce5f_2  pkgs/main           \n",
      "python                         3.6.3      h3389d20_0  pkgs/main           \n",
      "python                         3.6.3      h3b118a2_4  pkgs/main           \n",
      "python                         3.6.3      h9e2ca53_1  pkgs/main           \n",
      "python                         3.6.4               0  conda-forge         \n",
      "python                         3.6.4      h0c2934d_2  pkgs/main           \n",
      "python                         3.6.4      h0c2934d_3  pkgs/main           \n",
      "python                         3.6.4      h6538335_0  pkgs/main           \n",
      "python                         3.6.4      h6538335_1  pkgs/main           \n",
      "python                         3.6.5               0  conda-forge         \n",
      "python                         3.6.5               1  conda-forge         \n",
      "python                         3.6.5      h0c2934d_0  pkgs/main           \n",
      "python                         3.6.6      he025d50_0  conda-forge         \n",
      "python                         3.6.6      hea74fb7_0  pkgs/main           \n",
      "python                         3.6.7      h33f27b4_0  pkgs/main           \n",
      "python                         3.6.7      h33f27b4_1  pkgs/main           \n",
      "python                         3.6.7      h9f7ef89_2  pkgs/main           \n",
      "python                         3.6.7   he025d50_1002  conda-forge         \n",
      "python                         3.6.7   he025d50_1004  conda-forge         \n",
      "python                         3.6.7   he025d50_1005  conda-forge         \n",
      "python                         3.6.7   he025d50_1006  conda-forge         \n",
      "python                         3.6.7 he025d50_1008_cpython  conda-forge         \n",
      "python                         3.6.8      h9f7ef89_0  pkgs/main           \n",
      "python                         3.6.8      h9f7ef89_1  pkgs/main           \n",
      "python                         3.6.8      h9f7ef89_7  pkgs/main           \n",
      "python                         3.6.9      h5500b2f_0  pkgs/main           \n",
      "python                         3.6.9 he025d50_0_cpython  conda-forge         \n",
      "python                        3.6.10      h9f7ef89_0  pkgs/main           \n",
      "python                        3.6.10      h9f7ef89_1  pkgs/main           \n",
      "python                        3.6.10      h9f7ef89_2  pkgs/main           \n",
      "python                        3.6.10 he025d50_1009_cpython  conda-forge         \n",
      "python                        3.6.11 h39d44d4_3_cpython  conda-forge         \n",
      "python                        3.6.11 h6a66eb0_2_cpython  conda-forge         \n",
      "python                        3.6.11 h6f26aa1_2_cpython  conda-forge         \n",
      "python                        3.6.11 h9303ea8_2_cpython  conda-forge         \n",
      "python                        3.6.12 h39d44d4_0_cpython  conda-forge         \n",
      "python                        3.6.12      h5500b2f_2  pkgs/main           \n",
      "python                        3.6.13      h3758d61_0  pkgs/main           \n",
      "python                        3.6.13 h39d44d4_0_cpython  conda-forge         \n",
      "python                         3.7.0      h1ce479f_0  conda-forge         \n",
      "python                         3.7.0      hc182675_1  conda-forge         \n",
      "python                         3.7.0   hc182675_1002  conda-forge         \n",
      "python                         3.7.0   hc182675_1003  conda-forge         \n",
      "python                         3.7.0   hc182675_1004  conda-forge         \n",
      "python                         3.7.0   hc182675_1005  conda-forge         \n",
      "python                         3.7.0   hc182675_1006  conda-forge         \n",
      "python                         3.7.0      hea74fb7_0  pkgs/main           \n",
      "python                         3.7.1      h33f27b4_3  pkgs/main           \n",
      "python                         3.7.1      h33f27b4_4  pkgs/main           \n",
      "python                         3.7.1      h8c8aaf0_6  pkgs/main           \n",
      "python                         3.7.1   h9460c21_1002  conda-forge         \n",
      "python                         3.7.1   h9460c21_1003  conda-forge         \n",
      "python                         3.7.1   hc182675_1000  conda-forge         \n",
      "python                         3.7.1   hc182675_1001  conda-forge         \n",
      "python                         3.7.1      he44a216_5  pkgs/main           \n",
      "python                         3.7.2      h8c8aaf0_0  pkgs/main           \n",
      "python                         3.7.2     h8c8aaf0_10  pkgs/main           \n",
      "python                         3.7.2      h8c8aaf0_2  pkgs/main           \n",
      "python                         3.7.2      hb12ca83_0  conda-forge         \n",
      "python                         3.7.3      h510b542_1  conda-forge         \n",
      "python                         3.7.3      h8c8aaf0_0  pkgs/main           \n",
      "python                         3.7.3      h8c8aaf0_1  pkgs/main           \n",
      "python                         3.7.3      hb12ca83_0  conda-forge         \n",
      "python                         3.7.4      h5263a28_0  pkgs/main           \n",
      "python                         3.7.5 h7840368_0_cpython  conda-forge         \n",
      "python                         3.7.5      h8c8aaf0_0  pkgs/main           \n",
      "python                         3.7.6 cpython_h60c2a47_6  conda-forge         \n",
      "python                         3.7.6      h5b45d93_1  conda-forge         \n",
      "python                         3.7.6      h5b45d93_2  conda-forge         \n",
      "python                         3.7.6 h5b45d93_3_cpython  conda-forge         \n",
      "python                         3.7.6 h5b45d93_4_cpython  conda-forge         \n",
      "python                         3.7.6      h60c2a47_2  pkgs/main           \n",
      "python                         3.7.6 h60c2a47_5_cpython  conda-forge         \n",
      "python                         3.7.7 h60c2a47_0_cpython  pkgs/main           \n",
      "python                         3.7.7      h60c2a47_2  pkgs/main           \n",
      "python                         3.7.7      h81c818b_4  pkgs/main           \n",
      "python                         3.7.8 h60c2a47_0_cpython  conda-forge         \n",
      "python                         3.7.8 h60c2a47_1_cpython  conda-forge         \n",
      "python                         3.7.8 h7840368_2_cpython  conda-forge         \n",
      "python                         3.7.8 h7840368_3_cpython  conda-forge         \n",
      "python                         3.7.9      h60c2a47_0  pkgs/main           \n",
      "python                         3.7.9 h7840368_0_cpython  conda-forge         \n",
      "python                         3.7.9 h7840368_100_cpython  conda-forge         \n",
      "python                        3.7.10      h6244533_0  pkgs/main           \n",
      "python                        3.7.10 h7840368_100_cpython  conda-forge         \n",
      "python                         3.8.0      hc9e8b01_0  conda-forge         \n",
      "python                         3.8.0      hc9e8b01_1  conda-forge         \n",
      "python                         3.8.0      hc9e8b01_2  conda-forge         \n",
      "python                         3.8.0      hc9e8b01_3  conda-forge         \n",
      "python                         3.8.0      hc9e8b01_5  conda-forge         \n",
      "python                         3.8.0      hff0d562_0  pkgs/main           \n",
      "python                         3.8.0      hff0d562_1  pkgs/main           \n",
      "python                         3.8.0      hff0d562_2  pkgs/main           \n",
      "python                         3.8.1      h5fd99cc_1  pkgs/main           \n",
      "python                         3.8.1 h5fd99cc_8_cpython  pkgs/main           \n",
      "python                         3.8.1 he1778fa_7_cpython  pkgs/main           \n",
      "python                         3.8.1      he1f5543_1  conda-forge         \n",
      "python                         3.8.1      he1f5543_2  conda-forge         \n",
      "python                         3.8.2      h5fd99cc_0  pkgs/main           \n",
      "python                         3.8.2     h5fd99cc_11  pkgs/main           \n",
      "python                         3.8.2 h5fd99cc_4_cpython  conda-forge         \n",
      "python                         3.8.2 h5fd99cc_5_cpython  conda-forge         \n"
     ]
    },
    {
     "name": "stdout",
     "output_type": "stream",
     "text": [
      "python                         3.8.2 h5fd99cc_6_cpython  conda-forge         \n",
      "python                         3.8.2 h5fd99cc_7_cpython  conda-forge         \n",
      "python                         3.8.2     he1778fa_13  pkgs/main           \n",
      "python                         3.8.3 cpython_h5fd99cc_0  conda-forge         \n",
      "python                         3.8.3      he1778fa_0  pkgs/main           \n",
      "python                         3.8.3      he1778fa_2  pkgs/main           \n",
      "python                         3.8.4 cpython_h5fd99cc_0  conda-forge         \n",
      "python                         3.8.5 cpython_h5fd99cc_0  conda-forge         \n",
      "python                         3.8.5      h5fd99cc_1  pkgs/main           \n",
      "python                         3.8.5 h5fd99cc_1_cpython  conda-forge         \n",
      "python                         3.8.5 h5fd99cc_2_cpython  conda-forge         \n",
      "python                         3.8.5 h60c2a47_6_cpython  conda-forge         \n",
      "python                         3.8.5 h60c2a47_7_cpython  conda-forge         \n",
      "python                         3.8.5 h60c2a47_8_cpython  conda-forge         \n",
      "python                         3.8.5 h60c2a47_9_cpython  conda-forge         \n",
      "python                         3.8.5      he1778fa_0  pkgs/main           \n",
      "python                         3.8.6 h60c2a47_0_cpython  conda-forge         \n",
      "python                         3.8.6 h7840368_1_cpython  conda-forge         \n",
      "python                         3.8.6 h7840368_2_cpython  conda-forge         \n",
      "python                         3.8.6 h7840368_3_cpython  conda-forge         \n",
      "python                         3.8.6 h7840368_4_cpython  conda-forge         \n",
      "python                         3.8.6 h7840368_5_cpython  conda-forge         \n",
      "python                         3.8.8 h7840368_0_cpython  conda-forge         \n",
      "python                         3.8.8      hdbf39b2_4  pkgs/main           \n",
      "python                         3.9.0 h408a966_4_cpython  conda-forge         \n",
      "python                         3.9.0 h60c2a47_3_cpython  conda-forge         \n",
      "python                         3.9.0      h6244533_2  pkgs/main           \n",
      "python                         3.9.0 h7840368_5_cpython  conda-forge         \n",
      "python                         3.9.0      h8aef87e_1  pkgs/main           \n",
      "python                         3.9.1      h6244533_2  pkgs/main           \n",
      "python                         3.9.1 h7840368_0_cpython  conda-forge         \n",
      "python                         3.9.1 h7840368_1_cpython  conda-forge         \n",
      "python                         3.9.1 h7840368_2_cpython  conda-forge         \n",
      "python                         3.9.1 h7840368_3_cpython  conda-forge         \n",
      "python                         3.9.1 h7840368_4_cpython  conda-forge         \n",
      "python                         3.9.1 h7840368_5_cpython  conda-forge         \n",
      "python                         3.9.2      h6244533_0  pkgs/main           \n",
      "python                         3.9.2 h7840368_0_cpython  conda-forge         \n"
     ]
    }
   ],
   "source": [
    "! conda search python"
   ]
  },
  {
   "cell_type": "code",
   "execution_count": null,
   "metadata": {},
   "outputs": [],
   "source": [
    "! conda install python=3.7.2"
   ]
  },
  {
   "cell_type": "code",
   "execution_count": null,
   "metadata": {},
   "outputs": [],
   "source": []
  }
 ],
 "metadata": {
  "kernelspec": {
   "display_name": "Python 3",
   "language": "python",
   "name": "python3"
  },
  "language_info": {
   "codemirror_mode": {
    "name": "ipython",
    "version": 3
   },
   "file_extension": ".py",
   "mimetype": "text/x-python",
   "name": "python",
   "nbconvert_exporter": "python",
   "pygments_lexer": "ipython3",
   "version": "3.7.0"
  }
 },
 "nbformat": 4,
 "nbformat_minor": 2
}
